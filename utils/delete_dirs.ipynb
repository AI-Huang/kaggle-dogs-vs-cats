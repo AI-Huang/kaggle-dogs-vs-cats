{
 "metadata": {
  "language_info": {
   "codemirror_mode": {
    "name": "ipython",
    "version": 3
   },
   "file_extension": ".py",
   "mimetype": "text/x-python",
   "name": "python",
   "nbconvert_exporter": "python",
   "pygments_lexer": "ipython3",
   "version": "3.7.7-final"
  },
  "orig_nbformat": 2,
  "kernelspec": {
   "name": "python3",
   "display_name": "Python 3"
  }
 },
 "nbformat": 4,
 "nbformat_minor": 2,
 "cells": [
  {
   "cell_type": "code",
   "execution_count": 1,
   "metadata": {},
   "outputs": [],
   "source": [
    "#!/usr/bin/env python3\n",
    "# -*- coding: utf-8 -*-\n",
    "# @Date    : Nov-14-20 21:22\n",
    "# @Author  : Kelly Hwong (dianhuangkan@gmail.com)\n",
    "# @Link    : http://example.org\n",
    "import os\n",
    "import shutil\n",
    "from datetime import datetime"
   ]
  },
  {
   "cell_type": "code",
   "execution_count": 2,
   "metadata": {},
   "outputs": [],
   "source": [
    "# data path\n",
    "competition_name = \"dogs-vs-cats-redux-kernels-edition\"\n",
    "data_dir = os.path.expanduser(\n",
    "    f\"~/.kaggle/competitions/{competition_name}\")"
   ]
  },
  {
   "cell_type": "code",
   "execution_count": 1,
   "metadata": {},
   "outputs": [],
   "source": [
    "keeps = [\"20201113-221740\", \"20201114-113229\", \"20201114-134323\"]\n",
    "\n",
    "model_type = \"keras.applications.ResNet50V2\"\n",
    "\n",
    "# experiment time\n",
    "# date_time = datetime.now().strftime(\"%Y%m%d-%H%M%S\")"
   ]
  },
  {
   "source": [
    "## Warning\n",
    "\n",
    "删除多余的 ckpt，谨慎操作！"
   ],
   "cell_type": "markdown",
   "metadata": {}
  },
  {
   "cell_type": "code",
   "execution_count": null,
   "metadata": {},
   "outputs": [],
   "source": [
    "ckpt_dirs = os.path.expanduser(\n",
    "    f\"~/Documents/DeepLearningData/{competition_name}/ckpts/{model_type}\")\n",
    "date_times = os.listdir(ckpt_dirs)\n",
    "\n",
    "for date_time in date_times:\n",
    "    if date_time not in keeps:\n",
    "        ckpt_dir = os.path.expanduser(\n",
    "        f\"~/Documents/DeepLearningData/{competition_name}/ckpts/{model_type}/{date_time}\")\n",
    "    #     try:\n",
    "        shutil.rmtree(ckpt_dir)"
   ]
  },
  {
   "cell_type": "code",
   "execution_count": null,
   "metadata": {},
   "outputs": [],
   "source": [
    "log_dirs = os.path.expanduser(\n",
    "    f\"~/Documents/DeepLearningData/{competition_name}/logs/{model_type}\")\n",
    "date_times = os.listdir(log_dirs)\n",
    "\n",
    "for date_time in date_times:\n",
    "    if date_time not in keeps:\n",
    "        log_dir = os.path.expanduser(\n",
    "        f\"~/Documents/DeepLearningData/{competition_name}/logs/{model_type}/{date_time}\")\n",
    "    #     try:\n",
    "        print(f\"removing: {log_dir}\")\n",
    "        shutil.rmtree(log_dir)"
   ]
  }
 ]
}