{
 "cells": [
  {
   "cell_type": "code",
   "execution_count": 6,
   "metadata": {},
   "outputs": [],
   "source": [
    "#!/usr/bin/env python3\n",
    "# -*- coding: utf-8 -*-\n",
    "# @Date    : Nov-14-20 21:22\n",
    "# @Author  : Kelly Hwong (dianhuangkan@gmail.com)\n",
    "# @Link    : http://example.org\n",
    "import os\n",
    "import shutil\n",
    "from datetime import datetime"
   ]
  },
  {
   "cell_type": "code",
   "execution_count": 7,
   "metadata": {},
   "outputs": [],
   "source": [
    "# data path\n",
    "competition_name = \"dogs-vs-cats-redux-kernels-edition\"\n",
    "data_dir = os.path.expanduser(\n",
    "    f\"~/.kaggle/competitions/{competition_name}\")"
   ]
  },
  {
   "cell_type": "markdown",
   "metadata": {},
   "source": [
    "## Warning\n",
    "\n",
    "删除多余的 ckpt，谨慎操作！\n",
    "\n",
    "在下方 keeps 变量中 **准确** 填入要保留的实验ID"
   ]
  },
  {
   "cell_type": "code",
   "execution_count": 8,
   "metadata": {},
   "outputs": [],
   "source": [
    "keeps = [\"20201113-221740\", \"20201114-113229\", \"20201114-134323\",\n",
    "         \"20201115-204559-pretrain-True\", \"20201115-204753-pretrain-False\"]\n",
    "\n",
    "model_type = \"keras.applications.ResNet50V2\"\n",
    "# experiment time\n",
    "# date_time = datetime.now().strftime(\"%Y%m%d-%H%M%S\")"
   ]
  },
  {
   "cell_type": "markdown",
   "metadata": {},
   "source": [
    "## 开始删除！"
   ]
  },
  {
   "cell_type": "code",
   "execution_count": 9,
   "metadata": {},
   "outputs": [],
   "source": [
    "ckpt_dirs = os.path.expanduser(\n",
    "    f\"~/Documents/DeepLearningData/{competition_name}/ckpts/{model_type}\")\n",
    "date_times = os.listdir(ckpt_dirs)\n",
    "\n",
    "for date_time in date_times:\n",
    "    if date_time not in keeps:\n",
    "        ckpt_dir = os.path.expanduser(\n",
    "        f\"~/Documents/DeepLearningData/{competition_name}/ckpts/{model_type}/{date_time}\")\n",
    "    #     try:\n",
    "        shutil.rmtree(ckpt_dir, ignore_errors=True)"
   ]
  },
  {
   "cell_type": "code",
   "execution_count": 10,
   "metadata": {},
   "outputs": [],
   "source": [
    "log_dirs = os.path.expanduser(\n",
    "    f\"~/Documents/DeepLearningData/{competition_name}/logs/{model_type}\")\n",
    "date_times = os.listdir(log_dirs)\n",
    "\n",
    "for date_time in date_times:\n",
    "    if date_time not in keeps:\n",
    "        log_dir = os.path.expanduser(\n",
    "        f\"~/Documents/DeepLearningData/{competition_name}/logs/{model_type}/{date_time}\")\n",
    "    #     try:\n",
    "        print(f\"removing: {log_dir}\")\n",
    "        shutil.rmtree(log_dir, ignore_errors=True)"
   ]
  },
  {
   "cell_type": "code",
   "execution_count": null,
   "metadata": {},
   "outputs": [],
   "source": []
  }
 ],
 "metadata": {
  "kernelspec": {
   "display_name": "conda-tf2",
   "language": "python",
   "name": "conda-tf2"
  },
  "language_info": {
   "codemirror_mode": {
    "name": "ipython",
    "version": 3
   },
   "file_extension": ".py",
   "mimetype": "text/x-python",
   "name": "python",
   "nbconvert_exporter": "python",
   "pygments_lexer": "ipython3",
   "version": "3.7.7"
  }
 },
 "nbformat": 4,
 "nbformat_minor": 4
}
