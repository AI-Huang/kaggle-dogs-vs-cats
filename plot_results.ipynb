{
 "cells": [
  {
   "cell_type": "code",
   "execution_count": null,
   "metadata": {},
   "outputs": [],
   "source": [
    "import pandas as pd\n",
    "import numpy as np\n",
    "import matplotlib as mpl\n",
    "import matplotlib.pyplot as plt"
   ]
  },
  {
   "cell_type": "code",
   "execution_count": null,
   "metadata": {},
   "outputs": [],
   "source": [
    "# log=pd.read_csv(\"./log/training.log.fn.tn.csv\")\n",
    "log=pd.read_csv(\"./log/training.log.csv\")\n",
    "class_weight = {0:1, 1:1}\n",
    "print(f\"class_weight: {class_weight}.\")"
   ]
  },
  {
   "cell_type": "code",
   "execution_count": null,
   "metadata": {},
   "outputs": [],
   "source": [
    "log"
   ]
  },
  {
   "cell_type": "code",
   "execution_count": null,
   "metadata": {},
   "outputs": [],
   "source": [
    "mpl.rcParams['figure.figsize'] = (8, 5)\n",
    "cycle = plt.rcParams['axes.prop_cycle'].by_key()['color']\n",
    "filled_markers = ('o', 'v', '^', '<', '>', '8', 's', 'p', '*', 'h', 'H', 'D', 'd', 'P', 'X')\n",
    "\n",
    "# epoch,\n",
    "# accuracy,\n",
    "# auc_bad_1,\n",
    "# false_negatives,\n",
    "# false_negatives_1,\n",
    "# loss\n",
    "# true_negatives,\n",
    "# true_negatives_1,\n",
    "# val_accuracy,\n",
    "# val_auc_bad_1,\n",
    "# val_false_negatives,\n",
    "# val_false_negatives_1,\n",
    "# val_loss,\n",
    "# val_true_negatives,\n",
    "# val_true_negatives_1"
   ]
  },
  {
   "cell_type": "markdown",
   "metadata": {},
   "source": [
    "## 结果\n",
    "最原始的 BinaryCrossentropy"
   ]
  },
  {
   "cell_type": "code",
   "execution_count": null,
   "metadata": {},
   "outputs": [],
   "source": [
    "plt.plot(log[\"epoch\"].values, log[\"loss\"].values, color=cycle[1], marker='o', linewidth=1, markersize=4, label=\"loss\")\n",
    "plt.legend()\n",
    "plt.tight_layout()\n",
    "plt.grid()"
   ]
  },
  {
   "cell_type": "code",
   "execution_count": null,
   "metadata": {},
   "outputs": [],
   "source": [
    "plt.plot(log[\"epoch\"].values, log[\"auc_bad_1\"].values, color=cycle[3], marker='o', linewidth=1, markersize=4, label=\"auc_bad_1\")\n",
    "plt.plot(log[\"epoch\"].values, log[\"val_auc_bad_1\"].values, color=cycle[0], marker='o', linewidth=1, markersize=4, label=\"val_auc_bad_1\")\n",
    "num_epochs = 120\n",
    "plt.plot(np.linspace(0,num_epochs,num_epochs), 0.997*np.ones(num_epochs), color=cycle[4], label=\"target train AUC 0.997\") # cenluyu\n",
    "plt.plot(np.linspace(0,num_epochs,num_epochs), 0.985*np.ones(num_epochs), color=cycle[6], label=\"target train AUC 0.985\") # 我的AUC优化结果是0.985\n",
    "plt.ylim(0.9,1) # should supervise AUC to 0.997\n",
    "plt.legend()\n",
    "plt.tight_layout()\n",
    "plt.grid()"
   ]
  },
  {
   "cell_type": "code",
   "execution_count": null,
   "metadata": {},
   "outputs": [],
   "source": [
    "plt.plot(log[\"epoch\"].values, log[\"auc_bad_1\"].values, color=cycle[3], marker='o', linewidth=1, markersize=4, label=\"auc_bad_1\")\n",
    "plt.plot(log[\"epoch\"].values, log[\"val_auc_bad_1\"].values, color=cycle[0], marker='o', linewidth=1, markersize=4, label=\"val_auc_bad_1\")\n",
    "num_epochs = 120\n",
    "plt.plot(np.linspace(0,num_epochs,num_epochs), 0.997*np.ones(num_epochs), color=cycle[4], label=\"target train AUC 0.997\") # cenluyu\n",
    "plt.plot(np.linspace(0,num_epochs,num_epochs), 0.985*np.ones(num_epochs), color=cycle[6], label=\"target train AUC 0.985\") # 我的AUC优化结果是0.985\n",
    "plt.ylim(0.98,1) # should supervise AUC to 0.997\n",
    "plt.legend()\n",
    "plt.tight_layout()\n",
    "plt.grid()"
   ]
  },
  {
   "cell_type": "code",
   "execution_count": null,
   "metadata": {},
   "outputs": [],
   "source": [
    "plt.plot(log[\"epoch\"].values, log[\"recall\"].values, color=cycle[3], marker='o', linewidth=1, markersize=4, label=\"recall\")\n",
    "plt.plot(log[\"epoch\"].values, log[\"val_recall\"].values, color=cycle[0], marker='o', linewidth=1, markersize=4, label=\"val_recall\")\n",
    "plt.plot(np.linspace(0,50,50), 0.997*np.ones(50), color=cycle[4], label=\"target recall 0.99\")\n",
    "plt.xlim(36,55) # epoch from 36\n",
    "# plt.ylim(0.9,1) # should supervise recall to 0.99\n",
    "plt.legend()\n",
    "plt.tight_layout()\n",
    "plt.grid()"
   ]
  },
  {
   "cell_type": "code",
   "execution_count": null,
   "metadata": {},
   "outputs": [],
   "source": []
  },
  {
   "cell_type": "markdown",
   "metadata": {},
   "source": [
    "## 现象"
   ]
  }
 ],
 "metadata": {
  "kernelspec": {
   "display_name": "conda-tf2",
   "language": "python",
   "name": "conda-tf2"
  },
  "language_info": {
   "codemirror_mode": {
    "name": "ipython",
    "version": 3
   },
   "file_extension": ".py",
   "mimetype": "text/x-python",
   "name": "python",
   "nbconvert_exporter": "python",
   "pygments_lexer": "ipython3",
   "version": "3.7.7"
  }
 },
 "nbformat": 4,
 "nbformat_minor": 4
}
