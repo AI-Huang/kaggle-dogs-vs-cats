{
 "metadata": {
  "language_info": {
   "codemirror_mode": {
    "name": "ipython",
    "version": 3
   },
   "file_extension": ".py",
   "mimetype": "text/x-python",
   "name": "python",
   "nbconvert_exporter": "python",
   "pygments_lexer": "ipython3",
   "version": 3
  },
  "orig_nbformat": 2
 },
 "nbformat": 4,
 "nbformat_minor": 2,
 "cells": [
  {
   "cell_type": "code",
   "execution_count": null,
   "metadata": {},
   "outputs": [],
   "source": [
    "#!/usr/bin/env python3\n",
    "# -*- coding: utf-8 -*-\n",
    "# @Date    : Nov-15-20 13:58\n",
    "# @Author  : Kelly Hwong (dianhuangkan@gmail.com)\n",
    "# @Link    : http://example.org\n",
    "\n",
    "\n",
    "\n"
   ]
  }
 ]
}