{
 "cells": [
  {
   "cell_type": "code",
   "execution_count": 6,
   "metadata": {},
   "outputs": [],
   "source": [
    "#!/usr/bin/env python3\n",
    "# -*- coding: utf-8 -*-\n",
    "# @Date    : Nov-14-20 10:12\n",
    "# @Author  : Kelly Hwong (dianhuangkan@gmail.com)\n",
    "# @Link    : http://example.org\n",
    "\n",
    "import os\n",
    "import argparse\n",
    "from datetime import datetime\n",
    "from utils.data_utils import get_test_generator\n",
    "from keras_fn.model_utils import create_model\n",
    "from utils.data_utils import data_generators\n",
    "\n",
    "def cmd_parser():\n",
    "    \"\"\"parse arguments\n",
    "    \"\"\"\n",
    "    parser = argparse.ArgumentParser()\n",
    "\n",
    "    # Testing parameters\n",
    "    parser.add_argument('--batch_size', type=int, dest='batch_size',\n",
    "                        action='store', default=32, help='batch_size, e.g. 16.')  # 16 for Mac, 64, 128 for server\n",
    "\n",
    "    args = parser.parse_args()\n",
    "    return args\n",
    "\n",
    "batch_size = 32"
   ]
  },
  {
   "cell_type": "code",
   "execution_count": 2,
   "metadata": {},
   "outputs": [
    {
     "name": "stdout",
     "output_type": "stream",
     "text": [
      "Found 12500 validated image filenames.\n",
      "391/391 [==============================] - 14s 36ms/step\n"
     ]
    }
   ],
   "source": [
    "# data path\n",
    "competition_name = \"dogs-vs-cats-redux-kernels-edition\"\n",
    "data_dir = os.path.expanduser(\n",
    "    f\"~/.kaggle/competitions/{competition_name}\")\n",
    "\n",
    "model_type = \"keras.applications.ResNet50V2\"\n",
    "\n",
    "# experiment time\n",
    "#     date_time = datetime.now().strftime(\"%Y%m%d-%H%M%S\")\n",
    "date_time = \"20201113-221740\"\n",
    "ckpt_dir = os.path.expanduser(os.path.join(\n",
    "    \"~\", \"Documents\", \"DeepLearningData\", competition_name, \"ckpts\", model_type, date_time))\n",
    "\n",
    "# Input parameters\n",
    "IMAGE_WIDTH = IMAGE_HEIGHT = 128\n",
    "image_size = (IMAGE_WIDTH, IMAGE_HEIGHT)\n",
    "IMAGE_CHANNELS = 3\n",
    "input_shape = (IMAGE_WIDTH, IMAGE_HEIGHT, IMAGE_CHANNELS)\n",
    "num_classes = 2\n",
    "\n",
    "# Data loader\n",
    "test_generator, test_df = get_test_generator(\n",
    "    data_dir, target_size=image_size, batch_size=batch_size)\n",
    "\n",
    "model = create_model(model_type, input_shape, num_classes, pretrain=False)\n",
    "\n",
    "# Load ckpt\n",
    "ckpt = os.path.join(\n",
    "    ckpt_dir, \"keras.applications.ResNet50V2-epoch-080-val_loss-0.1708.h5\")\n",
    "assert os.path.isfile(ckpt)\n",
    "model.load_weights(ckpt)\n",
    "\n",
    "pred = model.predict(test_generator, workers=4, verbose=1)"
   ]
  },
  {
   "cell_type": "code",
   "execution_count": 7,
   "metadata": {},
   "outputs": [
    {
     "name": "stdout",
     "output_type": "stream",
     "text": [
      "Found 20000 validated image filenames belonging to 2 classes.\n",
      "Found 5000 validated image filenames belonging to 2 classes.\n"
     ]
    }
   ],
   "source": [
    "# Input parameters\n",
    "IMAGE_WIDTH = IMAGE_HEIGHT = 128\n",
    "image_size = (IMAGE_WIDTH, IMAGE_HEIGHT)\n",
    "IMAGE_CHANNELS = 3\n",
    "input_shape = (IMAGE_WIDTH, IMAGE_HEIGHT, IMAGE_CHANNELS)\n",
    "num_classes = 2\n",
    "\n",
    "batch_size = 32\n",
    "\n",
    "# Data loaders\n",
    "train_generator, validation_generator = data_generators(\n",
    "    data_dir, target_size=image_size, batch_size=batch_size)"
   ]
  },
  {
   "cell_type": "code",
   "execution_count": 8,
   "metadata": {},
   "outputs": [
    {
     "name": "stdout",
     "output_type": "stream",
     "text": [
      "625/625 [==============================] - 48s 77ms/step\n"
     ]
    }
   ],
   "source": [
    "pred_on_train = model.predict(train_generator, workers=4, verbose=1)"
   ]
  },
  {
   "cell_type": "code",
   "execution_count": 15,
   "metadata": {},
   "outputs": [
    {
     "name": "stdout",
     "output_type": "stream",
     "text": [
      "157/157 [==============================] - 6s 38ms/step\n"
     ]
    }
   ],
   "source": [
    "pred_on_val = model.predict(validation_generator, workers=4, verbose=1)"
   ]
  },
  {
   "cell_type": "code",
   "execution_count": 9,
   "metadata": {},
   "outputs": [],
   "source": [
    "import matplotlib.pyplot as plt"
   ]
  },
  {
   "cell_type": "code",
   "execution_count": 12,
   "metadata": {},
   "outputs": [
    {
     "data": {
      "text/plain": [
       "(array([8972.,  290.,  167.,  123.,   89.,   89.,   98.,  114.,  186.,\n",
       "        9872.]),\n",
       " array([0. , 0.1, 0.2, 0.3, 0.4, 0.5, 0.6, 0.7, 0.8, 0.9, 1. ],\n",
       "       dtype=float32),\n",
       " <a list of 10 Patch objects>)"
      ]
     },
     "execution_count": 12,
     "metadata": {},
     "output_type": "execute_result"
    },
    {
     "data": {
      "image/png": "[encoded data removed]",
      "text/plain": [
       "<Figure size 432x288 with 1 Axes>"
      ]
     },
     "metadata": {
      "needs_background": "light"
     },
     "output_type": "display_data"
    }
   ],
   "source": [
    "plt.hist(pred_on_train[:, class_indices[\"dog\"]])"
   ]
  },
  {
   "cell_type": "code",
   "execution_count": 16,
   "metadata": {},
   "outputs": [
    {
     "data": {
      "text/plain": [
       "(array([2215.,   61.,   38.,   21.,   27.,   23.,   35.,   29.,   30.,\n",
       "        2521.]),\n",
       " array([0. , 0.1, 0.2, 0.3, 0.4, 0.5, 0.6, 0.7, 0.8, 0.9, 1. ],\n",
       "       dtype=float32),\n",
       " <a list of 10 Patch objects>)"
      ]
     },
     "execution_count": 16,
     "metadata": {},
     "output_type": "execute_result"
    },
    {
     "data": {
      "image/png": "[encoded data removed]",
      "text/plain": [
       "<Figure size 432x288 with 1 Axes>"
      ]
     },
     "metadata": {
      "needs_background": "light"
     },
     "output_type": "display_data"
    }
   ],
   "source": [
    "plt.hist(pred_on_val[:, class_indices[\"dog\"]])"
   ]
  },
  {
   "cell_type": "code",
   "execution_count": 13,
   "metadata": {},
   "outputs": [
    {
     "data": {
      "text/plain": [
       "(array([6.900e+01, 8.595e+03, 3.054e+03, 5.840e+02, 1.360e+02, 4.700e+01,\n",
       "        4.000e+00, 7.000e+00, 2.000e+00, 2.000e+00]),\n",
       " array([0.33395162, 0.3370193 , 0.34008697, 0.3431546 , 0.34622228,\n",
       "        0.34928995, 0.35235763, 0.3554253 , 0.35849294, 0.3615606 ,\n",
       "        0.3646283 ], dtype=float32),\n",
       " <a list of 10 Patch objects>)"
      ]
     },
     "execution_count": 13,
     "metadata": {},
     "output_type": "execute_result"
    },
    {
     "data": {
      "image/png": "[encoded data removed]",
      "text/plain": [
       "<Figure size 432x288 with 1 Axes>"
      ]
     },
     "metadata": {
      "needs_background": "light"
     },
     "output_type": "display_data"
    }
   ],
   "source": [
    "plt.hist(pred[:, class_indices[\"dog\"]])"
   ]
  },
  {
   "cell_type": "code",
   "execution_count": 3,
   "metadata": {},
   "outputs": [],
   "source": [
    "#\n",
    "class_indices = {\"cat\": 0, \"dog\": 1}\n",
    "test_df['label'] = pred[:, class_indices[\"dog\"]]\n",
    "\n",
    "submission_df = test_df.copy()\n",
    "submission_df['id'] = submission_df['filename'].str.split('.').str[0].astype(int)\n",
    "submission_df.drop(['filename'], axis=1, inplace=True)\n",
    "submission_df['label'] = test_df['label']\n",
    "submission_df = submission_df.sort_values(by=\"id\")\n",
    "submission_df = submission_df.reindex(['id','label'],axis=1)\n",
    "submission_path = f\"./submissions/submission-{model_type}-{date_time}.csv\"\n",
    "submission_df.to_csv(submission_path, index=False)"
   ]
  },
  {
   "cell_type": "code",
   "execution_count": 4,
   "metadata": {},
   "outputs": [
    {
     "data": {
      "text/html": [
       "<div>\n",
       "<style scoped>\n",
       "    .dataframe tbody tr th:only-of-type {\n",
       "        vertical-align: middle;\n",
       "    }\n",
       "\n",
       "    .dataframe tbody tr th {\n",
       "        vertical-align: top;\n",
       "    }\n",
       "\n",
       "    .dataframe thead th {\n",
       "        text-align: right;\n",
       "    }\n",
       "</style>\n",
       "<table border=\"1\" class=\"dataframe\">\n",
       "  <thead>\n",
       "    <tr style=\"text-align: right;\">\n",
       "      <th></th>\n",
       "      <th>id</th>\n",
       "      <th>label</th>\n",
       "    </tr>\n",
       "  </thead>\n",
       "  <tbody>\n",
       "    <tr>\n",
       "      <th>9135</th>\n",
       "      <td>1</td>\n",
       "      <td>0.338813</td>\n",
       "    </tr>\n",
       "    <tr>\n",
       "      <th>9081</th>\n",
       "      <td>2</td>\n",
       "      <td>0.341551</td>\n",
       "    </tr>\n",
       "    <tr>\n",
       "      <th>11837</th>\n",
       "      <td>3</td>\n",
       "      <td>0.349661</td>\n",
       "    </tr>\n",
       "    <tr>\n",
       "      <th>3008</th>\n",
       "      <td>4</td>\n",
       "      <td>0.342866</td>\n",
       "    </tr>\n",
       "    <tr>\n",
       "      <th>9396</th>\n",
       "      <td>5</td>\n",
       "      <td>0.342639</td>\n",
       "    </tr>\n",
       "    <tr>\n",
       "      <th>...</th>\n",
       "      <td>...</td>\n",
       "      <td>...</td>\n",
       "    </tr>\n",
       "    <tr>\n",
       "      <th>946</th>\n",
       "      <td>12496</td>\n",
       "      <td>0.340107</td>\n",
       "    </tr>\n",
       "    <tr>\n",
       "      <th>7707</th>\n",
       "      <td>12497</td>\n",
       "      <td>0.342186</td>\n",
       "    </tr>\n",
       "    <tr>\n",
       "      <th>2355</th>\n",
       "      <td>12498</td>\n",
       "      <td>0.340149</td>\n",
       "    </tr>\n",
       "    <tr>\n",
       "      <th>6058</th>\n",
       "      <td>12499</td>\n",
       "      <td>0.340922</td>\n",
       "    </tr>\n",
       "    <tr>\n",
       "      <th>7396</th>\n",
       "      <td>12500</td>\n",
       "      <td>0.339446</td>\n",
       "    </tr>\n",
       "  </tbody>\n",
       "</table>\n",
       "<p>12500 rows × 2 columns</p>\n",
       "</div>"
      ],
      "text/plain": [
       "          id     label\n",
       "9135       1  0.338813\n",
       "9081       2  0.341551\n",
       "11837      3  0.349661\n",
       "3008       4  0.342866\n",
       "9396       5  0.342639\n",
       "...      ...       ...\n",
       "946    12496  0.340107\n",
       "7707   12497  0.342186\n",
       "2355   12498  0.340149\n",
       "6058   12499  0.340922\n",
       "7396   12500  0.339446\n",
       "\n",
       "[12500 rows x 2 columns]"
      ]
     },
     "execution_count": 4,
     "metadata": {},
     "output_type": "execute_result"
    }
   ],
   "source": [
    "submission_df"
   ]
  },
  {
   "cell_type": "code",
   "execution_count": 5,
   "metadata": {},
   "outputs": [
    {
     "data": {
      "text/plain": [
       "<matplotlib.axes._subplots.AxesSubplot at 0x7f7450b3df10>"
      ]
     },
     "execution_count": 5,
     "metadata": {},
     "output_type": "execute_result"
    },
    {
     "data": {
      "image/png": "[encoded data removed]",
      "text/plain": [
       "<Figure size 432x288 with 1 Axes>"
      ]
     },
     "metadata": {
      "needs_background": "light"
     },
     "output_type": "display_data"
    }
   ],
   "source": [
    "submission_df['label'].plot.hist()"
   ]
  },
  {
   "cell_type": "code",
   "execution_count": null,
   "metadata": {},
   "outputs": [],
   "source": []
  }
 ],
 "metadata": {
  "kernelspec": {
   "display_name": "conda-tf2",
   "language": "python",
   "name": "conda-tf2"
  },
  "language_info": {
   "codemirror_mode": {
    "name": "ipython",
    "version": 3
   },
   "file_extension": ".py",
   "mimetype": "text/x-python",
   "name": "python",
   "nbconvert_exporter": "python",
   "pygments_lexer": "ipython3",
   "version": "3.7.7"
  }
 },
 "nbformat": 4,
 "nbformat_minor": 4
}
