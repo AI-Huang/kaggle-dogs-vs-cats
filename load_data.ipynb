{
 "cells": [
  {
   "cell_type": "markdown",
   "metadata": {},
   "source": [
    "## dogs-vs-cats\n",
    "### pandas df loads data"
   ]
  },
  {
   "cell_type": "code",
   "execution_count": 1,
   "metadata": {},
   "outputs": [],
   "source": [
    "import os\n",
    "import json\n",
    "import random\n",
    "import numpy as np\n",
    "import pandas as pd"
   ]
  },
  {
   "cell_type": "code",
   "execution_count": 2,
   "metadata": {
    "tags": []
   },
   "outputs": [
    {
     "output_type": "stream",
     "name": "stdout",
     "text": "Load Config ...\nROOT_PATH: D:\\DeepLearningData\\kaggle-dogs-vs-cats\nROOT_PATH: D:\\DeepLearningData\\kaggle-dogs-vs-cats\nTRAIN_DATA_DIR: D:\\DeepLearningData\\kaggle-dogs-vs-cats\\data\\train\\\n"
    }
   ],
   "source": [
    "print(\"Load Config ...\")\n",
    "with open('./config/config.json', 'r') as f:\n",
    "    CONFIG = json.load(f)\n",
    "ROOT_PATH = CONFIG[\"ROOT_PATH\"]\n",
    "print(f\"ROOT_PATH: {ROOT_PATH}\")\n",
    "ROOT_PATH = os.path.expanduser(ROOT_PATH)\n",
    "print(f\"ROOT_PATH: {ROOT_PATH}\")\n",
    "TRAIN_DATA_DIR = os.path.join(ROOT_PATH, CONFIG[\"TRAIN_DATA_DIR\"])\n",
    "print(f\"TRAIN_DATA_DIR: {TRAIN_DATA_DIR}\")\n",
    "\n",
    "MODEL_TYPE = \"conv2-basics\"  # 'ResNet%dv%d' % (depth, version)\n",
    "SAVES_DIR = \"models-%s/\" % MODEL_TYPE\n",
    "SAVES_DIR = os.path.join(ROOT_PATH, SAVES_DIR)\n",
    "if not os.path.exists(SAVES_DIR):\n",
    "    os.mkdir(SAVES_DIR)"
   ]
  },
  {
   "cell_type": "code",
   "execution_count": 3,
   "metadata": {
    "tags": []
   },
   "outputs": [
    {
     "output_type": "stream",
     "name": "stdout",
     "text": "Prepare Data Frame\n"
    }
   ],
   "source": [
    "print(\"Prepare Data Frame\")\n",
    "filenames = os.listdir(TRAIN_DATA_DIR)\n",
    "random.shuffle(filenames)\n",
    "labels = []\n",
    "for f in filenames:\n",
    "    label = f.split('.')[0]\n",
    "    if label == 'dog':\n",
    "        labels.append(1)\n",
    "    elif label == 'cat':\n",
    "        labels.append(0)\n",
    "df = pd.DataFrame({\n",
    "    'filename': filenames,\n",
    "    'label': labels\n",
    "})\n",
    "df[\"label\"] = df[\"label\"].replace({0: 'cat', 1: 'dog'})\n",
    "\n",
    "train_df, validate_df = train_test_split(\n",
    "    df, test_size=0.20, random_state=42)\n",
    "train_df = train_df.reset_index(drop=True)\n",
    "validate_df = validate_df.reset_index(drop=True)\n",
    "\n",
    "# train_df['category'].value_counts().plot.bar()"
   ]
  },
  {
   "cell_type": "code",
   "execution_count": 4,
   "metadata": {},
   "outputs": [
    {
     "output_type": "execute_result",
     "data": {
      "text/plain": "            filename category\n0       dog.3235.jpg      dog\n1      cat.12130.jpg      cat\n2      cat.11094.jpg      cat\n3       dog.3230.jpg      dog\n4       cat.6706.jpg      cat\n...              ...      ...\n24995   cat.2739.jpg      cat\n24996   dog.1447.jpg      dog\n24997   dog.1138.jpg      dog\n24998  cat.11931.jpg      cat\n24999   dog.1795.jpg      dog\n\n[25000 rows x 2 columns]",
      "text/html": "<div>\n<style scoped>\n    .dataframe tbody tr th:only-of-type {\n        vertical-align: middle;\n    }\n\n    .dataframe tbody tr th {\n        vertical-align: top;\n    }\n\n    .dataframe thead th {\n        text-align: right;\n    }\n</style>\n<table border=\"1\" class=\"dataframe\">\n  <thead>\n    <tr style=\"text-align: right;\">\n      <th></th>\n      <th>filename</th>\n      <th>category</th>\n    </tr>\n  </thead>\n  <tbody>\n    <tr>\n      <th>0</th>\n      <td>dog.3235.jpg</td>\n      <td>dog</td>\n    </tr>\n    <tr>\n      <th>1</th>\n      <td>cat.12130.jpg</td>\n      <td>cat</td>\n    </tr>\n    <tr>\n      <th>2</th>\n      <td>cat.11094.jpg</td>\n      <td>cat</td>\n    </tr>\n    <tr>\n      <th>3</th>\n      <td>dog.3230.jpg</td>\n      <td>dog</td>\n    </tr>\n    <tr>\n      <th>4</th>\n      <td>cat.6706.jpg</td>\n      <td>cat</td>\n    </tr>\n    <tr>\n      <th>...</th>\n      <td>...</td>\n      <td>...</td>\n    </tr>\n    <tr>\n      <th>24995</th>\n      <td>cat.2739.jpg</td>\n      <td>cat</td>\n    </tr>\n    <tr>\n      <th>24996</th>\n      <td>dog.1447.jpg</td>\n      <td>dog</td>\n    </tr>\n    <tr>\n      <th>24997</th>\n      <td>dog.1138.jpg</td>\n      <td>dog</td>\n    </tr>\n    <tr>\n      <th>24998</th>\n      <td>cat.11931.jpg</td>\n      <td>cat</td>\n    </tr>\n    <tr>\n      <th>24999</th>\n      <td>dog.1795.jpg</td>\n      <td>dog</td>\n    </tr>\n  </tbody>\n</table>\n<p>25000 rows × 2 columns</p>\n</div>"
     },
     "metadata": {},
     "execution_count": 4
    }
   ],
   "source": [
    "df"
   ]
  },
  {
   "cell_type": "code",
   "execution_count": null,
   "metadata": {},
   "outputs": [],
   "source": [
    "print(df.head())\n",
    "print(df.tail())\n",
    "df['category'].value_counts().plot.bar()\n",
    "plt.show()"
   ]
  }
 ],
 "metadata": {
  "kernelspec": {
   "display_name": "Python 3",
   "language": "python",
   "name": "python3"
  },
  "language_info": {
   "codemirror_mode": {
    "name": "ipython",
    "version": 3
   },
   "file_extension": ".py",
   "mimetype": "text/x-python",
   "name": "python",
   "nbconvert_exporter": "python",
   "pygments_lexer": "ipython3",
   "version": "3.7.6-final"
  }
 },
 "nbformat": 4,
 "nbformat_minor": 2
}