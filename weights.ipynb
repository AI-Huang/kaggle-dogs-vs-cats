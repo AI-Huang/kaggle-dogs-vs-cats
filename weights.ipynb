{
 "metadata": {
  "language_info": {
   "codemirror_mode": {
    "name": "ipython",
    "version": 3
   },
   "file_extension": ".py",
   "mimetype": "text/x-python",
   "name": "python",
   "nbconvert_exporter": "python",
   "pygments_lexer": "ipython3",
   "version": "3.7.7-final"
  },
  "orig_nbformat": 2,
  "kernelspec": {
   "name": "Python 3.7.7 64-bit ('tf2': conda)",
   "display_name": "Python 3.7.7 64-bit ('tf2': conda)",
   "metadata": {
    "interpreter": {
     "hash": "6217ec1083430fbb69f0f529f559f9d6a9398dfc34178f068ec9884c7c99515e"
    }
   }
  }
 },
 "nbformat": 4,
 "nbformat_minor": 2,
 "cells": [
  {
   "cell_type": "code",
   "execution_count": 1,
   "metadata": {},
   "outputs": [],
   "source": [
    "#!/usr/bin/env python3\n",
    "# -*- coding: utf-8 -*-\n",
    "# @Date    : Nov-11-20 16:18\n",
    "# @Author  : Kelly Hwong (dianhuangkan@gmail.com)\n",
    "# @Link    : http://example.org"
   ]
  },
  {
   "cell_type": "code",
   "execution_count": 2,
   "metadata": {},
   "outputs": [],
   "source": [
    "import tensorflow as tf\n",
    "from tensorflow.keras.metrics import AUC, BinaryAccuracy, TruePositives, FalsePositives, TrueNegatives, FalseNegatives\n",
    "from keras_fn.three_conv2d_net import three_conv2d_net"
   ]
  },
  {
   "cell_type": "code",
   "execution_count": 3,
   "metadata": {},
   "outputs": [
    {
     "output_type": "stream",
     "name": "stdout",
     "text": [
      "Model: \"sequential\"\n_________________________________________________________________\nLayer (type)                 Output Shape              Param #   \n=================================================================\nconv2d (Conv2D)              (None, 126, 126, 32)      896       \n_________________________________________________________________\nbatch_normalization (BatchNo (None, 126, 126, 32)      128       \n_________________________________________________________________\nmax_pooling2d (MaxPooling2D) (None, 63, 63, 32)        0         \n_________________________________________________________________\ndropout (Dropout)            (None, 63, 63, 32)        0         \n_________________________________________________________________\nconv2d_1 (Conv2D)            (None, 61, 61, 64)        18496     \n_________________________________________________________________\nbatch_normalization_1 (Batch (None, 61, 61, 64)        256       \n_________________________________________________________________\nmax_pooling2d_1 (MaxPooling2 (None, 30, 30, 64)        0         \n_________________________________________________________________\ndropout_1 (Dropout)          (None, 30, 30, 64)        0         \n_________________________________________________________________\nconv2d_2 (Conv2D)            (None, 28, 28, 128)       73856     \n_________________________________________________________________\nbatch_normalization_2 (Batch (None, 28, 28, 128)       512       \n_________________________________________________________________\nmax_pooling2d_2 (MaxPooling2 (None, 14, 14, 128)       0         \n_________________________________________________________________\ndropout_2 (Dropout)          (None, 14, 14, 128)       0         \n_________________________________________________________________\nflatten (Flatten)            (None, 25088)             0         \n_________________________________________________________________\ndense (Dense)                (None, 512)               12845568  \n_________________________________________________________________\nbatch_normalization_3 (Batch (None, 512)               2048      \n_________________________________________________________________\ndropout_3 (Dropout)          (None, 512)               0         \n_________________________________________________________________\ndense_1 (Dense)              (None, 2)                 1026      \n=================================================================\nTotal params: 12,942,786\nTrainable params: 12,941,314\nNon-trainable params: 1,472\n_________________________________________________________________\n"
     ]
    }
   ],
   "source": [
    "# Input parameters\n",
    "IMAGE_WIDTH = 128\n",
    "IMAGE_HEIGHT = 128\n",
    "IMAGE_SIZE = (IMAGE_WIDTH, IMAGE_HEIGHT)\n",
    "IMAGE_CHANNELS = 3\n",
    "input_shape = (IMAGE_WIDTH, IMAGE_HEIGHT, IMAGE_CHANNELS)\n",
    "\n",
    "# Create model\n",
    "metrics = [\n",
    "    TruePositives(name='tp'),  # thresholds=0.5\n",
    "    FalsePositives(name='fp'),\n",
    "    TrueNegatives(name='tn'),\n",
    "    FalseNegatives(name='fn'),\n",
    "    BinaryAccuracy(name='accuracy'),\n",
    "    # AUC0(name='auc_cat_0'),  # 以 good 为 positive 的 AUC\n",
    "    AUC(name='auc_dog_1')  # 以 bad 为 positive 的 AUC\n",
    "]\n",
    "\n",
    "model = three_conv2d_net(input_shape=input_shape, metrics=metrics)\n",
    "model.summary()"
   ]
  },
  {
   "cell_type": "code",
   "execution_count": 4,
   "metadata": {},
   "outputs": [
    {
     "output_type": "execute_result",
     "data": {
      "text/plain": [
       "[<tensorflow.python.keras.layers.convolutional.Conv2D at 0x1eb9b849948>,\n",
       " <tensorflow.python.keras.layers.normalization_v2.BatchNormalization at 0x1eb9b8c6848>,\n",
       " <tensorflow.python.keras.layers.pooling.MaxPooling2D at 0x1eb9b87c9c8>,\n",
       " <tensorflow.python.keras.layers.core.Dropout at 0x1eb9b872d08>,\n",
       " <tensorflow.python.keras.layers.convolutional.Conv2D at 0x1eb9bc07748>,\n",
       " <tensorflow.python.keras.layers.normalization_v2.BatchNormalization at 0x1eb9bc075c8>,\n",
       " <tensorflow.python.keras.layers.pooling.MaxPooling2D at 0x1eb9ba4ce08>,\n",
       " <tensorflow.python.keras.layers.core.Dropout at 0x1eb963652c8>,\n",
       " <tensorflow.python.keras.layers.convolutional.Conv2D at 0x1eb9bc1b208>,\n",
       " <tensorflow.python.keras.layers.normalization_v2.BatchNormalization at 0x1eb9bc6fe88>,\n",
       " <tensorflow.python.keras.layers.pooling.MaxPooling2D at 0x1eb9bc6fa88>,\n",
       " <tensorflow.python.keras.layers.core.Dropout at 0x1eb9be635c8>,\n",
       " <tensorflow.python.keras.layers.core.Flatten at 0x1eb9be6d408>,\n",
       " <tensorflow.python.keras.layers.core.Dense at 0x1eb9bfc6848>,\n",
       " <tensorflow.python.keras.layers.normalization_v2.BatchNormalization at 0x1eb9bfc6cc8>,\n",
       " <tensorflow.python.keras.layers.core.Dropout at 0x1eb9bfc6a08>,\n",
       " <tensorflow.python.keras.layers.core.Dense at 0x1eb9bfce588>]"
      ]
     },
     "metadata": {},
     "execution_count": 4
    }
   ],
   "source": [
    "model.layers"
   ]
  },
  {
   "cell_type": "code",
   "execution_count": 5,
   "metadata": {},
   "outputs": [
    {
     "output_type": "execute_result",
     "data": {
      "text/plain": [
       "17"
      ]
     },
     "metadata": {},
     "execution_count": 5
    }
   ],
   "source": [
    "len(model.layers)"
   ]
  },
  {
   "cell_type": "code",
   "execution_count": 6,
   "metadata": {},
   "outputs": [],
   "source": [
    "weights = model.get_weights() # a list of model weights"
   ]
  },
  {
   "source": [
    "## Save weights"
   ],
   "cell_type": "markdown",
   "metadata": {}
  },
  {
   "cell_type": "code",
   "execution_count": 16,
   "metadata": {},
   "outputs": [],
   "source": [
    "### Save both model architecture and weights\n",
    "# model.save(\"./model_and_weights.h5\")"
   ]
  },
  {
   "cell_type": "code",
   "execution_count": 17,
   "metadata": {},
   "outputs": [],
   "source": [
    "### Save only weights\n",
    "# model.save_weights(\"./weights.h5\")"
   ]
  },
  {
   "cell_type": "code",
   "execution_count": null,
   "metadata": {},
   "outputs": [],
   "source": []
  }
 ]
}